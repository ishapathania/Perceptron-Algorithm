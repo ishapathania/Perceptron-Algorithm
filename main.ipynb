{
 "cells": [
  {
   "cell_type": "code",
   "execution_count": 5,
   "id": "d2e3e05e",
   "metadata": {},
   "outputs": [
    {
     "name": "stdout",
     "output_type": "stream",
     "text": [
      "X = 1.6 is in class 2\n",
      "w1 =  -3.997931727319836\n",
      "w0 =  4.002068272680165\n",
      "Number of iterations required =  84\n",
      "Boundary =  1.0010346713356963\n"
     ]
    }
   ],
   "source": [
    "import numpy as np\n",
    "\n",
    "X_train = np.array(([-2,1,3,5],[1,1,1,1])) #extended version of training data 2x4\n",
    "w = np.array(([1],[0])) #initializing 2x1 weight matrix to w1(0) = 1 and w2(0) = 0\n",
    "L = np.array([[1,1,-1,-1]]) #corresponding class labels for training data \"X\", class 1 is \"1\",\n",
    "                            #and class 2 is \"-1\",size 1x4\n",
    "Y_pred = np.zeros((1,4),dtype = int) #initializing predicted label matrix of size 1x4 to zero\n",
    "Z = np.zeros((1,4),dtype = int) #initializing linear classifier matrix of size 1x4\n",
    "delta = np.zeros((1,4),dtype = int) #initializing 1x4 matrix to zero for Y_pred values that are incorrect\n",
    "rho = 1 #setting learning rate to 1 for the first iteration\n",
    "X_test = np.array([[1.6],[1]]) #given test data\n",
    "t=0 #initializing iterator to zero\n",
    "\n",
    "\n",
    "#implementing perceptron algorithm\n",
    "while True: #running an infinite loop until there are no errors\n",
    "    Z = np.dot(w.T,X_train) #matrix multiplication of weight matrix with training data, size 1x4\n",
    "    Y_pred = np.sign(Z) #implementing signum function as activation \n",
    "    for i in range(L.size):\n",
    "        if L[0,i] == Y_pred[0,i]: #checking if predicted label is same as the true label\n",
    "            delta[0,i] = 0 #setting value of index i to zero\n",
    "        else:\n",
    "            delta[0,i] = -(L[0,i]) #setting value of index i to the misclassified label\n",
    "    if np.max(np.abs(delta)) !=0: #checking if all elements of delta is zero implying all values are correct\n",
    "        if t==0:\n",
    "            rho = 1\n",
    "        else:\n",
    "            rho=1/t #iteratively updating learning rate for every iteration t\n",
    "        w = w - (rho*(np.dot(X_train,delta.T))) #gradient descent\n",
    "    else:\n",
    "        break #if all Y_pred labels are correct, then exit loop\n",
    "    t=t+1\n",
    " \n",
    "\n",
    "\n",
    " #testing perceptron algorithm\n",
    "Z_test = np.dot(w.T,X_test)\n",
    "Y_test = np.sign(Z_test)\n",
    "if Y_test == 1:\n",
    "    print(\"X = 1.6 is in class 1\")\n",
    "else:\n",
    "    print(\"X = 1.6 is in class 2\")\n",
    "print(\"w1 = \",w[0,0])\n",
    "print(\"w0 = \",w[1,0])\n",
    "print(\"Number of iterations required = \",t)\n",
    "\n",
    "X_boundary = -(w[1,0]/w[0,0])\n",
    "print(\"Boundary = \",X_boundary)"
   ]
  },
  {
   "cell_type": "code",
   "execution_count": null,
   "id": "775090bf",
   "metadata": {},
   "outputs": [],
   "source": []
  },
  {
   "cell_type": "code",
   "execution_count": null,
   "id": "c8c67806",
   "metadata": {},
   "outputs": [],
   "source": []
  }
 ],
 "metadata": {
  "kernelspec": {
   "display_name": "Python 3 (ipykernel)",
   "language": "python",
   "name": "python3"
  },
  "language_info": {
   "codemirror_mode": {
    "name": "ipython",
    "version": 3
   },
   "file_extension": ".py",
   "mimetype": "text/x-python",
   "name": "python",
   "nbconvert_exporter": "python",
   "pygments_lexer": "ipython3",
   "version": "3.7.11"
  }
 },
 "nbformat": 4,
 "nbformat_minor": 5
}
